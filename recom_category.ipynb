{
  "nbformat": 4,
  "nbformat_minor": 0,
  "metadata": {
    "colab": {
      "provenance": [],
      "authorship_tag": "ABX9TyOfLOIB5I7D1xQAYx0dfcZ5",
      "include_colab_link": true
    },
    "kernelspec": {
      "name": "python3",
      "display_name": "Python 3"
    },
    "language_info": {
      "name": "python"
    }
  },
  "cells": [
    {
      "cell_type": "markdown",
      "metadata": {
        "id": "view-in-github",
        "colab_type": "text"
      },
      "source": [
        "<a href=\"https://colab.research.google.com/github/HuNt07/recom/blob/main/recom_category.ipynb\" target=\"_parent\"><img src=\"https://colab.research.google.com/assets/colab-badge.svg\" alt=\"Open In Colab\"/></a>"
      ]
    },
    {
      "cell_type": "code",
      "source": [
        "import numpy as np \n",
        "import pandas as pd "
      ],
      "metadata": {
        "id": "YWWQLsz0IIMb"
      },
      "execution_count": 2,
      "outputs": []
    },
    {
      "cell_type": "code",
      "source": [
        "dataset = pd.read_csv(\"posts.csv\")\n"
      ],
      "metadata": {
        "id": "FmqTiIuOFg0R"
      },
      "execution_count": 3,
      "outputs": []
    },
    {
      "cell_type": "code",
      "source": [
        "dataset.head()\n"
      ],
      "metadata": {
        "id": "xWSAFsh7F60f",
        "colab": {
          "base_uri": "https://localhost:8080/",
          "height": 635
        },
        "outputId": "526c36ba-9472-4e83-e7a0-ea93751730b5"
      },
      "execution_count": 4,
      "outputs": [
        {
          "output_type": "execute_result",
          "data": {
            "text/plain": [
              "   __v                       _id    category  \\\n",
              "0    0  641b38f19fc116621be1432f     startup   \n",
              "1    0  641ffce77f7c713530febd07  Internship   \n",
              "2    0  641ffd117f7c713530febd10   Hackathon   \n",
              "3    0  641ffed67f7c713530febd31   Hackathon   \n",
              "4    0  641fffa17f7c713530febd34  Internship   \n",
              "\n",
              "                                             content  \\\n",
              "0  We produce innovative and beautiful websites o...   \n",
              "1  I am excited to announce that I have successfu...   \n",
              "2  Glad to inform that our team has secured 2nd p...   \n",
              "3  Participated in GlobalShala 3.0 held by Saint ...   \n",
              "4  I am excited to announce that I have successfu...   \n",
              "\n",
              "                                            imageurl       organization  \\\n",
              "0  https://vichinth.com/wp-content/uploads/2018/0...  JVSH Technologies   \n",
              "1           /uploads/products/1679817959687_girl.png     Somiya Panikar   \n",
              "2      /uploads/products/1679818001897_teamphoto.png        Brown Munde   \n",
              "3            /uploads/products/1679818454539_boy.png    Siddharth Singh   \n",
              "4            /uploads/products/1679818657654_boy.png       Harmit Saini   \n",
              "\n",
              "                                         socialmedia  \n",
              "0                                  @jvshtechnologies  \n",
              "1  https://www.linkedin.com/in/somiya-panikar-74a...  \n",
              "2      Siddharth Singh, Harmit Saini, Aniruddha Fale  \n",
              "3  https://www.linkedin.com/in/siddharth-singh-04...  \n",
              "4  https://www.linkedin.com/in/harmit-saini-09b81...  "
            ],
            "text/html": [
              "\n",
              "  <div id=\"df-fcf94d13-4805-4f78-9643-111664557adf\">\n",
              "    <div class=\"colab-df-container\">\n",
              "      <div>\n",
              "<style scoped>\n",
              "    .dataframe tbody tr th:only-of-type {\n",
              "        vertical-align: middle;\n",
              "    }\n",
              "\n",
              "    .dataframe tbody tr th {\n",
              "        vertical-align: top;\n",
              "    }\n",
              "\n",
              "    .dataframe thead th {\n",
              "        text-align: right;\n",
              "    }\n",
              "</style>\n",
              "<table border=\"1\" class=\"dataframe\">\n",
              "  <thead>\n",
              "    <tr style=\"text-align: right;\">\n",
              "      <th></th>\n",
              "      <th>__v</th>\n",
              "      <th>_id</th>\n",
              "      <th>category</th>\n",
              "      <th>content</th>\n",
              "      <th>imageurl</th>\n",
              "      <th>organization</th>\n",
              "      <th>socialmedia</th>\n",
              "    </tr>\n",
              "  </thead>\n",
              "  <tbody>\n",
              "    <tr>\n",
              "      <th>0</th>\n",
              "      <td>0</td>\n",
              "      <td>641b38f19fc116621be1432f</td>\n",
              "      <td>startup</td>\n",
              "      <td>We produce innovative and beautiful websites o...</td>\n",
              "      <td>https://vichinth.com/wp-content/uploads/2018/0...</td>\n",
              "      <td>JVSH Technologies</td>\n",
              "      <td>@jvshtechnologies</td>\n",
              "    </tr>\n",
              "    <tr>\n",
              "      <th>1</th>\n",
              "      <td>0</td>\n",
              "      <td>641ffce77f7c713530febd07</td>\n",
              "      <td>Internship</td>\n",
              "      <td>I am excited to announce that I have successfu...</td>\n",
              "      <td>/uploads/products/1679817959687_girl.png</td>\n",
              "      <td>Somiya Panikar</td>\n",
              "      <td>https://www.linkedin.com/in/somiya-panikar-74a...</td>\n",
              "    </tr>\n",
              "    <tr>\n",
              "      <th>2</th>\n",
              "      <td>0</td>\n",
              "      <td>641ffd117f7c713530febd10</td>\n",
              "      <td>Hackathon</td>\n",
              "      <td>Glad to inform that our team has secured 2nd p...</td>\n",
              "      <td>/uploads/products/1679818001897_teamphoto.png</td>\n",
              "      <td>Brown Munde</td>\n",
              "      <td>Siddharth Singh, Harmit Saini, Aniruddha Fale</td>\n",
              "    </tr>\n",
              "    <tr>\n",
              "      <th>3</th>\n",
              "      <td>0</td>\n",
              "      <td>641ffed67f7c713530febd31</td>\n",
              "      <td>Hackathon</td>\n",
              "      <td>Participated in GlobalShala 3.0 held by Saint ...</td>\n",
              "      <td>/uploads/products/1679818454539_boy.png</td>\n",
              "      <td>Siddharth Singh</td>\n",
              "      <td>https://www.linkedin.com/in/siddharth-singh-04...</td>\n",
              "    </tr>\n",
              "    <tr>\n",
              "      <th>4</th>\n",
              "      <td>0</td>\n",
              "      <td>641fffa17f7c713530febd34</td>\n",
              "      <td>Internship</td>\n",
              "      <td>I am excited to announce that I have successfu...</td>\n",
              "      <td>/uploads/products/1679818657654_boy.png</td>\n",
              "      <td>Harmit Saini</td>\n",
              "      <td>https://www.linkedin.com/in/harmit-saini-09b81...</td>\n",
              "    </tr>\n",
              "  </tbody>\n",
              "</table>\n",
              "</div>\n",
              "      <button class=\"colab-df-convert\" onclick=\"convertToInteractive('df-fcf94d13-4805-4f78-9643-111664557adf')\"\n",
              "              title=\"Convert this dataframe to an interactive table.\"\n",
              "              style=\"display:none;\">\n",
              "        \n",
              "  <svg xmlns=\"http://www.w3.org/2000/svg\" height=\"24px\"viewBox=\"0 0 24 24\"\n",
              "       width=\"24px\">\n",
              "    <path d=\"M0 0h24v24H0V0z\" fill=\"none\"/>\n",
              "    <path d=\"M18.56 5.44l.94 2.06.94-2.06 2.06-.94-2.06-.94-.94-2.06-.94 2.06-2.06.94zm-11 1L8.5 8.5l.94-2.06 2.06-.94-2.06-.94L8.5 2.5l-.94 2.06-2.06.94zm10 10l.94 2.06.94-2.06 2.06-.94-2.06-.94-.94-2.06-.94 2.06-2.06.94z\"/><path d=\"M17.41 7.96l-1.37-1.37c-.4-.4-.92-.59-1.43-.59-.52 0-1.04.2-1.43.59L10.3 9.45l-7.72 7.72c-.78.78-.78 2.05 0 2.83L4 21.41c.39.39.9.59 1.41.59.51 0 1.02-.2 1.41-.59l7.78-7.78 2.81-2.81c.8-.78.8-2.07 0-2.86zM5.41 20L4 18.59l7.72-7.72 1.47 1.35L5.41 20z\"/>\n",
              "  </svg>\n",
              "      </button>\n",
              "      \n",
              "  <style>\n",
              "    .colab-df-container {\n",
              "      display:flex;\n",
              "      flex-wrap:wrap;\n",
              "      gap: 12px;\n",
              "    }\n",
              "\n",
              "    .colab-df-convert {\n",
              "      background-color: #E8F0FE;\n",
              "      border: none;\n",
              "      border-radius: 50%;\n",
              "      cursor: pointer;\n",
              "      display: none;\n",
              "      fill: #1967D2;\n",
              "      height: 32px;\n",
              "      padding: 0 0 0 0;\n",
              "      width: 32px;\n",
              "    }\n",
              "\n",
              "    .colab-df-convert:hover {\n",
              "      background-color: #E2EBFA;\n",
              "      box-shadow: 0px 1px 2px rgba(60, 64, 67, 0.3), 0px 1px 3px 1px rgba(60, 64, 67, 0.15);\n",
              "      fill: #174EA6;\n",
              "    }\n",
              "\n",
              "    [theme=dark] .colab-df-convert {\n",
              "      background-color: #3B4455;\n",
              "      fill: #D2E3FC;\n",
              "    }\n",
              "\n",
              "    [theme=dark] .colab-df-convert:hover {\n",
              "      background-color: #434B5C;\n",
              "      box-shadow: 0px 1px 3px 1px rgba(0, 0, 0, 0.15);\n",
              "      filter: drop-shadow(0px 1px 2px rgba(0, 0, 0, 0.3));\n",
              "      fill: #FFFFFF;\n",
              "    }\n",
              "  </style>\n",
              "\n",
              "      <script>\n",
              "        const buttonEl =\n",
              "          document.querySelector('#df-fcf94d13-4805-4f78-9643-111664557adf button.colab-df-convert');\n",
              "        buttonEl.style.display =\n",
              "          google.colab.kernel.accessAllowed ? 'block' : 'none';\n",
              "\n",
              "        async function convertToInteractive(key) {\n",
              "          const element = document.querySelector('#df-fcf94d13-4805-4f78-9643-111664557adf');\n",
              "          const dataTable =\n",
              "            await google.colab.kernel.invokeFunction('convertToInteractive',\n",
              "                                                     [key], {});\n",
              "          if (!dataTable) return;\n",
              "\n",
              "          const docLinkHtml = 'Like what you see? Visit the ' +\n",
              "            '<a target=\"_blank\" href=https://colab.research.google.com/notebooks/data_table.ipynb>data table notebook</a>'\n",
              "            + ' to learn more about interactive tables.';\n",
              "          element.innerHTML = '';\n",
              "          dataTable['output_type'] = 'display_data';\n",
              "          await google.colab.output.renderOutput(dataTable, element);\n",
              "          const docLink = document.createElement('div');\n",
              "          docLink.innerHTML = docLinkHtml;\n",
              "          element.appendChild(docLink);\n",
              "        }\n",
              "      </script>\n",
              "    </div>\n",
              "  </div>\n",
              "  "
            ]
          },
          "metadata": {},
          "execution_count": 4
        }
      ]
    },
    {
      "cell_type": "code",
      "source": [
        "category_content = dataset.drop(['__v','_id','imageurl','organization','socialmedia'], axis=1)"
      ],
      "metadata": {
        "id": "YS2EoyoObV5s"
      },
      "execution_count": 5,
      "outputs": []
    },
    {
      "cell_type": "code",
      "source": [
        "print(category_content)"
      ],
      "metadata": {
        "colab": {
          "base_uri": "https://localhost:8080/"
        },
        "id": "m5OHC3R9cbQM",
        "outputId": "5cda5342-bc24-4c15-ab11-11f9468063bb"
      },
      "execution_count": 6,
      "outputs": [
        {
          "output_type": "stream",
          "name": "stdout",
          "text": [
            "      category                                            content\n",
            "0      startup  We produce innovative and beautiful websites o...\n",
            "1   Internship  I am excited to announce that I have successfu...\n",
            "2    Hackathon  Glad to inform that our team has secured 2nd p...\n",
            "3    Hackathon  Participated in GlobalShala 3.0 held by Saint ...\n",
            "4   Internship  I am excited to announce that I have successfu...\n",
            "5  Achievement  Glad to inform that our team had created the S...\n",
            "6    Hackathon  Participated in SmartIDEAthon 2022 by GITAM Un...\n"
          ]
        }
      ]
    },
    {
      "cell_type": "code",
      "source": [
        "content = category_content.drop(['category'], axis=1)"
      ],
      "metadata": {
        "id": "4VdZg_tTceDM"
      },
      "execution_count": 7,
      "outputs": []
    },
    {
      "cell_type": "code",
      "source": [
        "print(content)"
      ],
      "metadata": {
        "colab": {
          "base_uri": "https://localhost:8080/"
        },
        "id": "ECcBXv9Re1pl",
        "outputId": "57ac4536-4eaf-41ac-8741-bd7849e975d0"
      },
      "execution_count": 8,
      "outputs": [
        {
          "output_type": "stream",
          "name": "stdout",
          "text": [
            "                                             content\n",
            "0  We produce innovative and beautiful websites o...\n",
            "1  I am excited to announce that I have successfu...\n",
            "2  Glad to inform that our team has secured 2nd p...\n",
            "3  Participated in GlobalShala 3.0 held by Saint ...\n",
            "4  I am excited to announce that I have successfu...\n",
            "5  Glad to inform that our team had created the S...\n",
            "6  Participated in SmartIDEAthon 2022 by GITAM Un...\n"
          ]
        }
      ]
    },
    {
      "cell_type": "code",
      "source": [
        "import sklearn\n",
        "from sklearn.feature_extraction.text import TfidfVectorizer \n",
        "tfidf = TfidfVectorizer(stop_words='english')\n",
        "category_content['content'] = category_content['content'].fillna('')\n",
        "tfidfMatrix = tfidf.fit_transform(category_content['content'])\n",
        "tfidfMatrix.shape"
      ],
      "metadata": {
        "colab": {
          "base_uri": "https://localhost:8080/"
        },
        "id": "MUAtjf6ZfG3i",
        "outputId": "5f45731e-b50a-4af1-97c5-2051beb71ee5"
      },
      "execution_count": 9,
      "outputs": [
        {
          "output_type": "execute_result",
          "data": {
            "text/plain": [
              "(7, 86)"
            ]
          },
          "metadata": {},
          "execution_count": 9
        }
      ]
    },
    {
      "cell_type": "code",
      "source": [
        "from sklearn.metrics.pairwise import linear_kernel \n",
        "cos_similarity= linear_kernel(tfidfMatrix, tfidfMatrix)"
      ],
      "metadata": {
        "id": "D8YO5WxTfkHo"
      },
      "execution_count": 10,
      "outputs": []
    },
    {
      "cell_type": "code",
      "source": [
        "indices = pd.Series(category_content.index, index=category_content['category']).drop_duplicates()"
      ],
      "metadata": {
        "id": "m1wKfepcfoSQ"
      },
      "execution_count": 11,
      "outputs": []
    },
    {
      "cell_type": "code",
      "source": [
        "def get_recommendations(category, cos_similarity=cos_similarity):\n",
        "    idx = indices[category]\n",
        "    sim_scores = list(enumerate(cos_similarity[idx]))\n",
        "    sim_scores = sorted(sim_scores, key=lambda x: x[1], reverse=True)\n",
        "    sim_scores = sim_scores[1:11]\n",
        "    category_indices = [i[0] for i in sim_scores]\n",
        "    return category_content['category'].iloc[category_indices]"
      ],
      "metadata": {
        "id": "FYzwWFhygKQV"
      },
      "execution_count": 12,
      "outputs": []
    },
    {
      "cell_type": "code",
      "source": [
        "get_recommendations('startup')\n"
      ],
      "metadata": {
        "colab": {
          "base_uri": "https://localhost:8080/"
        },
        "id": "voK7XbT4gfd2",
        "outputId": "ec51d2de-25a7-4e26-9839-0c27bd997f95"
      },
      "execution_count": 13,
      "outputs": [
        {
          "output_type": "execute_result",
          "data": {
            "text/plain": [
              "1     Internship\n",
              "2      Hackathon\n",
              "3      Hackathon\n",
              "4     Internship\n",
              "5    Achievement\n",
              "6      Hackathon\n",
              "Name: category, dtype: object"
            ]
          },
          "metadata": {},
          "execution_count": 13
        }
      ]
    }
  ]
}